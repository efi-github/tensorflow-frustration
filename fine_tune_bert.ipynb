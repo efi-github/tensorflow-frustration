{
 "cells": [
  {
   "cell_type": "markdown",
   "metadata": {
    "id": "vXLA5InzXydn"
   },
   "source": [
    "##### Copyright 2019 The TensorFlow Authors."
   ]
  },
  {
   "cell_type": "code",
   "execution_count": 1,
   "metadata": {
    "cellView": "form",
    "execution": {
     "iopub.execute_input": "2022-12-16T12:09:38.896981Z",
     "iopub.status.busy": "2022-12-16T12:09:38.896508Z",
     "iopub.status.idle": "2022-12-16T12:09:38.900227Z",
     "shell.execute_reply": "2022-12-16T12:09:38.899645Z"
    },
    "id": "RuRlpLL-X0R_"
   },
   "outputs": [],
   "source": [
    "#@title Licensed under the Apache License, Version 2.0 (the \"License\");\n",
    "# you may not use this file except in compliance with the License.\n",
    "# You may obtain a copy of the License at\n",
    "#\n",
    "# https://www.apache.org/licenses/LICENSE-2.0\n",
    "#\n",
    "# Unless required by applicable law or agreed to in writing, software\n",
    "# distributed under the License is distributed on an \"AS IS\" BASIS,\n",
    "# WITHOUT WARRANTIES OR CONDITIONS OF ANY KIND, either express or implied.\n",
    "# See the License for the specific language governing permissions and\n",
    "# limitations under the License."
   ]
  },
  {
   "cell_type": "markdown",
   "metadata": {
    "id": "1mLJmVotXs64"
   },
   "source": [
    "# Fine-tuning a BERT model"
   ]
  },
  {
   "cell_type": "markdown",
   "metadata": {
    "id": "hYEwGTeCXnnX"
   },
   "source": [
    "<table class=\"tfo-notebook-buttons\" align=\"left\">\n",
    "  <td>\n",
    "    <a target=\"_blank\" href=\"https://www.tensorflow.org/tfmodels/nlp/fine_tune_bert\"><img src=\"https://www.tensorflow.org/images/tf_logo_32px.png\" />View on TensorFlow.org</a>\n",
    "  </td>\n",
    "  <td>\n",
    "    <a target=\"_blank\" href=\"https://colab.research.google.com/github/tensorflow/models/blob/master/docs/nlp/fine_tune_bert.ipynb\"><img src=\"https://www.tensorflow.org/images/colab_logo_32px.png\" />Run in Google Colab</a>\n",
    "  </td>\n",
    "  <td>\n",
    "    <a target=\"_blank\" href=\"https://github.com/tensorflow/models/blob/master/docs/nlp/fine_tune_bert.ipynb\"><img src=\"https://www.tensorflow.org/images/GitHub-Mark-32px.png\" />View source on GitHub</a>\n",
    "  </td>\n",
    "  <td>\n",
    "    <a href=\"https://storage.googleapis.com/tensorflow_docs/models/docs/nlp/fine_tune_bert.ipynb\"><img src=\"https://www.tensorflow.org/images/download_logo_32px.png\" />Download notebook</a>\n",
    "  </td>\n",
    "  <td>\n",
    "    <a href=\"https://tfhub.dev/google/collections/bert\"><img src=\"https://www.tensorflow.org/images/hub_logo_32px.png\" />See TF Hub model</a>\n",
    "  </td>\n",
    "</table>"
   ]
  },
  {
   "cell_type": "markdown",
   "metadata": {
    "id": "YN2ACivEPxgD"
   },
   "source": [
    "This tutorial demonstrates how to fine-tune a [Bidirectional Encoder Representations from Transformers (BERT)](https://arxiv.org/abs/1810.04805) (Devlin et al., 2018) model using [TensorFlow Model Garden](https://github.com/tensorflow/models).\n",
    "\n",
    "You can also find the pre-trained BERT model used in this tutorial on [TensorFlow Hub (TF Hub)](https://tensorflow.org/hub). For concrete examples of how to use the models from TF Hub, refer to the [Solve Glue tasks using BERT](https://www.tensorflow.org/text/tutorials/bert_glue) tutorial. If you're just trying to fine-tune a model, the TF Hub tutorial is a good starting point.\n",
    "\n",
    "On the other hand, if you're interested in deeper customization, follow this tutorial. It shows how to do a lot of things manually, so you can learn how you can customize the workflow from data preprocessing to training, exporting and saving the model."
   ]
  },
  {
   "cell_type": "markdown",
   "metadata": {
    "id": "s2d9S2CSSO1z"
   },
   "source": [
    "## Setup"
   ]
  },
  {
   "cell_type": "markdown",
   "metadata": {
    "id": "69de3375e32a"
   },
   "source": [
    "### Install pip packages"
   ]
  },
  {
   "cell_type": "markdown",
   "metadata": {
    "id": "fsACVQpVSifi"
   },
   "source": [
    "Start by installing the TensorFlow Text and Model Garden pip packages.\n",
    "\n",
    "*  `tf-models-official` is the TensorFlow Model Garden package. Note that it may not include the latest changes in the `tensorflow_models` GitHub repo. To include the latest changes, you may install `tf-models-nightly`, which is the nightly Model Garden package created daily automatically.\n",
    "*  pip will install all models and dependencies automatically."
   ]
  },
  {
   "cell_type": "markdown",
   "metadata": {
    "id": "U-7qPCjWUAyy"
   },
   "source": [
    "### Import libraries"
   ]
  },
  {
   "cell_type": "code",
   "execution_count": 1,
   "metadata": {
    "execution": {
     "iopub.execute_input": "2022-12-16T12:10:55.443877Z",
     "iopub.status.busy": "2022-12-16T12:10:55.443625Z",
     "iopub.status.idle": "2022-12-16T12:10:59.568845Z",
     "shell.execute_reply": "2022-12-16T12:10:59.568062Z"
    },
    "id": "lXsXev5MNr20"
   },
   "outputs": [
    {
     "name": "stderr",
     "output_type": "stream",
     "text": [
      "c:\\Users\\Elisabeth\\AppData\\Local\\Programs\\Python\\Python39\\lib\\site-packages\\tqdm\\auto.py:22: TqdmWarning: IProgress not found. Please update jupyter and ipywidgets. See https://ipywidgets.readthedocs.io/en/stable/user_install.html\n",
      "  from .autonotebook import tqdm as notebook_tqdm\n"
     ]
    }
   ],
   "source": [
    "import os\n",
    "\n",
    "import numpy as np\n",
    "import matplotlib.pyplot as plt\n",
    "\n",
    "import tensorflow as tf\n",
    "import tensorflow_models as tfm\n",
    "import tensorflow_hub as hub\n",
    "import tensorflow_datasets as tfds\n",
    "tfds.disable_progress_bar()"
   ]
  },
  {
   "cell_type": "code",
   "execution_count": 2,
   "metadata": {},
   "outputs": [
    {
     "ename": "SystemError",
     "evalue": "GPU device not found",
     "output_type": "error",
     "traceback": [
      "\u001b[1;31m---------------------------------------------------------------------------\u001b[0m",
      "\u001b[1;31mSystemError\u001b[0m                               Traceback (most recent call last)",
      "Cell \u001b[1;32mIn[2], line 3\u001b[0m\n\u001b[0;32m      1\u001b[0m device_name \u001b[39m=\u001b[39m tf\u001b[39m.\u001b[39mtest\u001b[39m.\u001b[39mgpu_device_name()\n\u001b[0;32m      2\u001b[0m \u001b[39mif\u001b[39;00m device_name \u001b[39m!=\u001b[39m \u001b[39m'\u001b[39m\u001b[39m/device:GPU:0\u001b[39m\u001b[39m'\u001b[39m:\n\u001b[1;32m----> 3\u001b[0m     \u001b[39mraise\u001b[39;00m \u001b[39mSystemError\u001b[39;00m(\u001b[39m'\u001b[39m\u001b[39mGPU device not found\u001b[39m\u001b[39m'\u001b[39m)\n",
      "\u001b[1;31mSystemError\u001b[0m: GPU device not found"
     ]
    }
   ],
   "source": [
    "device_name = tf.test.gpu_device_name()\n",
    "if device_name != '/device:GPU:0':\n",
    "    raise SystemError('GPU device not found')"
   ]
  },
  {
   "cell_type": "markdown",
   "metadata": {
    "id": "mbanlzTvJBsz"
   },
   "source": [
    "### Resources"
   ]
  },
  {
   "cell_type": "markdown",
   "metadata": {
    "id": "PpW0x8TpR8DT"
   },
   "source": [
    "The following directory contains the BERT model's configuration, vocabulary, and a pre-trained checkpoint used in this tutorial:"
   ]
  },
  {
   "cell_type": "code",
   "execution_count": 2,
   "metadata": {
    "execution": {
     "iopub.execute_input": "2022-12-16T12:10:59.573280Z",
     "iopub.status.busy": "2022-12-16T12:10:59.572793Z",
     "iopub.status.idle": "2022-12-16T12:10:59.703156Z",
     "shell.execute_reply": "2022-12-16T12:10:59.702500Z"
    },
    "id": "vzRHOLciR8eq"
   },
   "outputs": [
    {
     "data": {
      "text/plain": [
       "['bert_config.json',\n",
       " 'bert_model.ckpt.data-00000-of-00001',\n",
       " 'bert_model.ckpt.index',\n",
       " 'vocab.txt']"
      ]
     },
     "execution_count": 2,
     "metadata": {},
     "output_type": "execute_result"
    }
   ],
   "source": [
    "gs_folder_bert = \"bert_uncased_L-12_H-768_A-12\"\n",
    "gs_folder_bert = \"uncased_L-12_H-768_A-12\"\n",
    "tf.io.gfile.listdir(gs_folder_bert)"
   ]
  },
  {
   "cell_type": "markdown",
   "metadata": {
    "id": "Qv6abtRvH4xO"
   },
   "source": [
    "## Load and preprocess the dataset\n",
    "\n",
    "This example uses the GLUE (General Language Understanding Evaluation) MRPC (Microsoft Research Paraphrase Corpus) [dataset from TensorFlow Datasets (TFDS)](https://www.tensorflow.org/datasets/catalog/glue#gluemrpc).\n",
    "\n",
    "This dataset is not set up such that it can be directly fed into the BERT model. The following section handles the necessary preprocessing."
   ]
  },
  {
   "cell_type": "markdown",
   "metadata": {
    "id": "28DvUhC1YUiB"
   },
   "source": [
    "### Get the dataset from TensorFlow Datasets\n",
    "\n",
    "The GLUE MRPC (Dolan and Brockett, 2005) dataset is a corpus of sentence pairs automatically extracted from online news sources, with human annotations for whether the sentences in the pair are semantically equivalent. It has the following attributes:\n",
    "\n",
    "*   Number of labels: 2\n",
    "*   Size of training dataset: 3668\n",
    "*   Size of evaluation dataset: 408\n",
    "*   Maximum sequence length of training and evaluation dataset: 128\n",
    "\n",
    "Begin by loading the MRPC dataset from TFDS:"
   ]
  },
  {
   "cell_type": "code",
   "execution_count": 3,
   "metadata": {
    "execution": {
     "iopub.execute_input": "2022-12-16T12:10:59.706482Z",
     "iopub.status.busy": "2022-12-16T12:10:59.706228Z",
     "iopub.status.idle": "2022-12-16T12:11:03.908709Z",
     "shell.execute_reply": "2022-12-16T12:11:03.907957Z"
    },
    "id": "Ijikx5OsH9AT"
   },
   "outputs": [],
   "source": [
    "batch_size=32\n",
    "glue, info = tfds.load('glue/mrpc',\n",
    "                       with_info=True,\n",
    "                       batch_size=32)"
   ]
  },
  {
   "cell_type": "code",
   "execution_count": 4,
   "metadata": {
    "execution": {
     "iopub.execute_input": "2022-12-16T12:11:03.912627Z",
     "iopub.status.busy": "2022-12-16T12:11:03.912149Z",
     "iopub.status.idle": "2022-12-16T12:11:03.916534Z",
     "shell.execute_reply": "2022-12-16T12:11:03.915968Z"
    },
    "id": "QcMTJU4N7VX-"
   },
   "outputs": [
    {
     "data": {
      "text/plain": [
       "{'train': <PrefetchDataset element_spec={'idx': TensorSpec(shape=(None,), dtype=tf.int32, name=None), 'label': TensorSpec(shape=(None,), dtype=tf.int64, name=None), 'sentence1': TensorSpec(shape=(None,), dtype=tf.string, name=None), 'sentence2': TensorSpec(shape=(None,), dtype=tf.string, name=None)}>,\n",
       " 'validation': <PrefetchDataset element_spec={'idx': TensorSpec(shape=(None,), dtype=tf.int32, name=None), 'label': TensorSpec(shape=(None,), dtype=tf.int64, name=None), 'sentence1': TensorSpec(shape=(None,), dtype=tf.string, name=None), 'sentence2': TensorSpec(shape=(None,), dtype=tf.string, name=None)}>,\n",
       " 'test': <PrefetchDataset element_spec={'idx': TensorSpec(shape=(None,), dtype=tf.int32, name=None), 'label': TensorSpec(shape=(None,), dtype=tf.int64, name=None), 'sentence1': TensorSpec(shape=(None,), dtype=tf.string, name=None), 'sentence2': TensorSpec(shape=(None,), dtype=tf.string, name=None)}>}"
      ]
     },
     "execution_count": 4,
     "metadata": {},
     "output_type": "execute_result"
    }
   ],
   "source": [
    "glue"
   ]
  },
  {
   "cell_type": "markdown",
   "metadata": {
    "id": "ZgBg2r2nYT-K"
   },
   "source": [
    "The `info` object describes the dataset and its features:"
   ]
  },
  {
   "cell_type": "code",
   "execution_count": 6,
   "metadata": {
    "execution": {
     "iopub.execute_input": "2022-12-16T12:11:03.919714Z",
     "iopub.status.busy": "2022-12-16T12:11:03.919278Z",
     "iopub.status.idle": "2022-12-16T12:11:03.923326Z",
     "shell.execute_reply": "2022-12-16T12:11:03.922768Z"
    },
    "id": "IQrHxv7W7jH5"
   },
   "outputs": [
    {
     "data": {
      "text/plain": [
       "FeaturesDict({\n",
       "    'idx': tf.int32,\n",
       "    'label': ClassLabel(shape=(), dtype=tf.int64, num_classes=2),\n",
       "    'sentence1': Text(shape=(), dtype=tf.string),\n",
       "    'sentence2': Text(shape=(), dtype=tf.string),\n",
       "})"
      ]
     },
     "execution_count": 6,
     "metadata": {},
     "output_type": "execute_result"
    }
   ],
   "source": [
    "info.features"
   ]
  },
  {
   "cell_type": "markdown",
   "metadata": {
    "id": "vhsVWYNxazz5"
   },
   "source": [
    "The two classes are:"
   ]
  },
  {
   "cell_type": "code",
   "execution_count": 7,
   "metadata": {
    "execution": {
     "iopub.execute_input": "2022-12-16T12:11:03.926352Z",
     "iopub.status.busy": "2022-12-16T12:11:03.925833Z",
     "iopub.status.idle": "2022-12-16T12:11:03.929749Z",
     "shell.execute_reply": "2022-12-16T12:11:03.929203Z"
    },
    "id": "n0gfc_VTayfQ"
   },
   "outputs": [
    {
     "data": {
      "text/plain": [
       "['not_equivalent', 'equivalent']"
      ]
     },
     "execution_count": 7,
     "metadata": {},
     "output_type": "execute_result"
    }
   ],
   "source": [
    "info.features['label'].names"
   ]
  },
  {
   "cell_type": "markdown",
   "metadata": {
    "id": "38zJcap6xkbC"
   },
   "source": [
    "Here is one example from the training set:"
   ]
  },
  {
   "cell_type": "code",
   "execution_count": 8,
   "metadata": {
    "execution": {
     "iopub.execute_input": "2022-12-16T12:11:03.932783Z",
     "iopub.status.busy": "2022-12-16T12:11:03.932327Z",
     "iopub.status.idle": "2022-12-16T12:11:04.115934Z",
     "shell.execute_reply": "2022-12-16T12:11:04.115116Z"
    },
    "id": "xON_i6SkwApW"
   },
   "outputs": [
    {
     "name": "stdout",
     "output_type": "stream",
     "text": [
      "idx      : 1680\n",
      "label    : 0\n",
      "sentence1: b'The identical rovers will act as robotic geologists , searching for evidence of past water .'\n",
      "sentence2: b'The rovers act as robotic geologists , moving on six wheels .'\n"
     ]
    }
   ],
   "source": [
    "example_batch = next(iter(glue['train']))\n",
    "\n",
    "for key, value in example_batch.items():\n",
    "  print(f\"{key:9s}: {value[0].numpy()}\")"
   ]
  },
  {
   "cell_type": "markdown",
   "metadata": {
    "id": "R9vEWgKA4SxV"
   },
   "source": [
    "### Preprocess the data\n",
    "\n",
    "The keys `\"sentence1\"` and `\"sentence2\"` in the GLUE MRPC dataset contain two input sentences for each example.\n",
    "\n",
    "Because the BERT model from the Model Garden doesn't take raw text as input, two things need to happen first:\n",
    "\n",
    "1. The text needs to be _tokenized_ (split into word pieces) and converted to _indices_.\n",
    "2. Then, the _indices_ need to be packed into the format that the model expects."
   ]
  },
  {
   "cell_type": "markdown",
   "metadata": {
    "id": "9fbTyfJpNr7x"
   },
   "source": [
    "#### The BERT tokenizer"
   ]
  },
  {
   "cell_type": "markdown",
   "metadata": {
    "id": "wqeN54S61ZKQ"
   },
   "source": [
    "To fine tune a pre-trained language model from the Model Garden, such as BERT, you need to make sure that you're using exactly the same tokenization, vocabulary, and index mapping as used during training.\n",
    "\n",
    "The following code rebuilds the tokenizer that was used by the base model using the Model Garden's `tfm.nlp.layers.FastWordpieceBertTokenizer` layer:"
   ]
  },
  {
   "cell_type": "code",
   "execution_count": 9,
   "metadata": {
    "execution": {
     "iopub.execute_input": "2022-12-16T12:11:04.119816Z",
     "iopub.status.busy": "2022-12-16T12:11:04.119542Z",
     "iopub.status.idle": "2022-12-16T12:11:04.526596Z",
     "shell.execute_reply": "2022-12-16T12:11:04.525846Z"
    },
    "id": "-DK4q5wEBmlB"
   },
   "outputs": [],
   "source": [
    "tokenizer = tfm.nlp.layers.FastWordpieceBertTokenizer(\n",
    "    vocab_file=os.path.join(gs_folder_bert, \"vocab.txt\"),\n",
    "    lower_case=True)"
   ]
  },
  {
   "cell_type": "markdown",
   "metadata": {
    "id": "zYHDSquU2lDU"
   },
   "source": [
    "Let's tokenize a test sentence:"
   ]
  },
  {
   "cell_type": "code",
   "execution_count": 10,
   "metadata": {
    "execution": {
     "iopub.execute_input": "2022-12-16T12:11:04.530697Z",
     "iopub.status.busy": "2022-12-16T12:11:04.530441Z",
     "iopub.status.idle": "2022-12-16T12:11:04.599513Z",
     "shell.execute_reply": "2022-12-16T12:11:04.598847Z"
    },
    "id": "L_OfOYPg853R"
   },
   "outputs": [
    {
     "data": {
      "text/plain": [
       "<tf.RaggedTensor [[[7592], [23435, 12314], [999]]]>"
      ]
     },
     "execution_count": 10,
     "metadata": {},
     "output_type": "execute_result"
    }
   ],
   "source": [
    "tokens = tokenizer(tf.constant([\"Hello TensorFlow!\"]))\n",
    "tokens"
   ]
  },
  {
   "cell_type": "markdown",
   "metadata": {
    "id": "MfjaaMYy5Gt8"
   },
   "source": [
    "Learn more about the tokenization process in the [Subword tokenization](https://www.tensorflow.org/text/guide/subwords_tokenizer) and [Tokenizing with TensorFlow Text](https://www.tensorflow.org/text/guide/tokenizers) guides."
   ]
  },
  {
   "cell_type": "markdown",
   "metadata": {
    "id": "wd1b09OO5GJl"
   },
   "source": [
    "#### Pack the inputs"
   ]
  },
  {
   "cell_type": "markdown",
   "metadata": {
    "id": "62UTWLQd9-LB"
   },
   "source": [
    "TensorFlow Model Garden's BERT model doesn't just take the tokenized strings as input. It also expects these to be packed into a particular format. `tfm.nlp.layers.BertPackInputs` layer can handle the conversion from _a list of tokenized sentences_ to the input format expected by the Model Garden's BERT model.\n",
    "\n",
    "`tfm.nlp.layers.BertPackInputs` packs the two input sentences (per example in the MRCP dataset) concatenated together. This input is expected to start with a `[CLS]` \"This is a classification problem\" token, and each sentence should end with a `[SEP]` \"Separator\" token.\n",
    "\n",
    "Therefore, the `tfm.nlp.layers.BertPackInputs` layer's constructor takes the `tokenizer`'s special tokens as an argument. It also needs to know the indices of the tokenizer's special tokens."
   ]
  },
  {
   "cell_type": "code",
   "execution_count": 11,
   "metadata": {
    "execution": {
     "iopub.execute_input": "2022-12-16T12:11:04.602858Z",
     "iopub.status.busy": "2022-12-16T12:11:04.602613Z",
     "iopub.status.idle": "2022-12-16T12:11:04.606860Z",
     "shell.execute_reply": "2022-12-16T12:11:04.606296Z"
    },
    "id": "5iroDlrFDRcF"
   },
   "outputs": [
    {
     "data": {
      "text/plain": [
       "{'vocab_size': 30522,\n",
       " 'start_of_sequence_id': 101,\n",
       " 'end_of_segment_id': 102,\n",
       " 'padding_id': 0,\n",
       " 'mask_id': 103}"
      ]
     },
     "execution_count": 11,
     "metadata": {},
     "output_type": "execute_result"
    }
   ],
   "source": [
    "special = tokenizer.get_special_tokens_dict()\n",
    "special"
   ]
  },
  {
   "cell_type": "code",
   "execution_count": 12,
   "metadata": {
    "execution": {
     "iopub.execute_input": "2022-12-16T12:11:04.609782Z",
     "iopub.status.busy": "2022-12-16T12:11:04.609541Z",
     "iopub.status.idle": "2022-12-16T12:11:04.613276Z",
     "shell.execute_reply": "2022-12-16T12:11:04.612726Z"
    },
    "id": "b71HarkuG92H"
   },
   "outputs": [],
   "source": [
    "max_seq_length = 128\n",
    "\n",
    "packer = tfm.nlp.layers.BertPackInputs(\n",
    "    seq_length=max_seq_length,\n",
    "    special_tokens_dict = tokenizer.get_special_tokens_dict())"
   ]
  },
  {
   "cell_type": "markdown",
   "metadata": {
    "id": "CZlSZbYd6liN"
   },
   "source": [
    "The `packer` takes a list of tokenized sentences as input. For example:"
   ]
  },
  {
   "cell_type": "code",
   "execution_count": 13,
   "metadata": {
    "execution": {
     "iopub.execute_input": "2022-12-16T12:11:04.616646Z",
     "iopub.status.busy": "2022-12-16T12:11:04.616078Z",
     "iopub.status.idle": "2022-12-16T12:11:04.654972Z",
     "shell.execute_reply": "2022-12-16T12:11:04.654416Z"
    },
    "id": "27dU_VkJHc9S"
   },
   "outputs": [
    {
     "data": {
      "text/plain": [
       "<tf.RaggedTensor [[[7592], [23435, 12314]]]>"
      ]
     },
     "execution_count": 13,
     "metadata": {},
     "output_type": "execute_result"
    }
   ],
   "source": [
    "sentences1 = [\"hello tensorflow\"]\n",
    "tok1 = tokenizer(sentences1)\n",
    "tok1"
   ]
  },
  {
   "cell_type": "code",
   "execution_count": 14,
   "metadata": {
    "execution": {
     "iopub.execute_input": "2022-12-16T12:11:04.658099Z",
     "iopub.status.busy": "2022-12-16T12:11:04.657538Z",
     "iopub.status.idle": "2022-12-16T12:11:04.695764Z",
     "shell.execute_reply": "2022-12-16T12:11:04.695180Z"
    },
    "id": "LURHmNOSHnWN"
   },
   "outputs": [
    {
     "data": {
      "text/plain": [
       "<tf.RaggedTensor [[[9119], [23435, 12314]]]>"
      ]
     },
     "execution_count": 14,
     "metadata": {},
     "output_type": "execute_result"
    }
   ],
   "source": [
    "sentences2 = [\"goodbye tensorflow\"]\n",
    "tok2 = tokenizer(sentences2)\n",
    "tok2"
   ]
  },
  {
   "cell_type": "markdown",
   "metadata": {
    "id": "r8bvB8gI8BqP"
   },
   "source": [
    "Then, it returns a dictionary containing three outputs:\n",
    "\n",
    "- `input_word_ids`: The tokenized sentences packed together.\n",
    "- `input_mask`: The mask indicating which locations are valid in the other outputs.\n",
    "- `input_type_ids`: Indicating which sentence each token belongs to."
   ]
  },
  {
   "cell_type": "code",
   "execution_count": 15,
   "metadata": {
    "execution": {
     "iopub.execute_input": "2022-12-16T12:11:04.699030Z",
     "iopub.status.busy": "2022-12-16T12:11:04.698532Z",
     "iopub.status.idle": "2022-12-16T12:11:04.915632Z",
     "shell.execute_reply": "2022-12-16T12:11:04.915018Z"
    },
    "id": "YsIDTOMJHrUQ"
   },
   "outputs": [
    {
     "name": "stdout",
     "output_type": "stream",
     "text": [
      "input_word_ids : [[  101  7592 23435 12314   102  9119 23435 12314   102     0     0     0]]\n",
      "input_mask     : [[1 1 1 1 1 1 1 1 1 0 0 0]]\n",
      "input_type_ids : [[0 0 0 0 0 1 1 1 1 0 0 0]]\n"
     ]
    }
   ],
   "source": [
    "packed = packer([tok1, tok2])\n",
    "\n",
    "for key, tensor in packed.items():\n",
    "  print(f\"{key:15s}: {tensor[:, :12]}\")"
   ]
  },
  {
   "cell_type": "markdown",
   "metadata": {
    "id": "red4tRcq74Qc"
   },
   "source": [
    "#### Put it all together\n",
    "\n",
    "Combine these two parts into a `keras.layers.Layer` that can be attached to your model:"
   ]
  },
  {
   "cell_type": "code",
   "execution_count": 16,
   "metadata": {
    "execution": {
     "iopub.execute_input": "2022-12-16T12:11:04.918907Z",
     "iopub.status.busy": "2022-12-16T12:11:04.918452Z",
     "iopub.status.idle": "2022-12-16T12:11:04.922891Z",
     "shell.execute_reply": "2022-12-16T12:11:04.922341Z"
    },
    "id": "9Qtz-tv-6nz6"
   },
   "outputs": [],
   "source": [
    "class BertInputProcessor(tf.keras.layers.Layer):\n",
    "  def __init__(self, tokenizer, packer):\n",
    "    super().__init__()\n",
    "    self.tokenizer = tokenizer\n",
    "    self.packer = packer\n",
    "\n",
    "  def call(self, inputs):\n",
    "    tok1 = self.tokenizer(inputs['sentence1'])\n",
    "    tok2 = self.tokenizer(inputs['sentence2'])\n",
    "\n",
    "    packed = self.packer([tok1, tok2])\n",
    "\n",
    "    if 'label' in inputs:\n",
    "      return packed, inputs['label']\n",
    "    else:\n",
    "      return packed"
   ]
  },
  {
   "cell_type": "markdown",
   "metadata": {
    "id": "rdy9wp499btU"
   },
   "source": [
    "But for now just apply it to the dataset using `Dataset.map`, since the dataset you loaded from TFDS is a `tf.data.Dataset` object:"
   ]
  },
  {
   "cell_type": "code",
   "execution_count": 17,
   "metadata": {
    "execution": {
     "iopub.execute_input": "2022-12-16T12:11:04.925969Z",
     "iopub.status.busy": "2022-12-16T12:11:04.925444Z",
     "iopub.status.idle": "2022-12-16T12:11:04.929982Z",
     "shell.execute_reply": "2022-12-16T12:11:04.929445Z"
    },
    "id": "qmyh76AL7VAs"
   },
   "outputs": [],
   "source": [
    "bert_inputs_processor = BertInputProcessor(tokenizer, packer)"
   ]
  },
  {
   "cell_type": "code",
   "execution_count": 18,
   "metadata": {
    "execution": {
     "iopub.execute_input": "2022-12-16T12:11:04.932952Z",
     "iopub.status.busy": "2022-12-16T12:11:04.932494Z",
     "iopub.status.idle": "2022-12-16T12:11:08.799080Z",
     "shell.execute_reply": "2022-12-16T12:11:08.798135Z"
    },
    "id": "B8SSCtDe9MCk"
   },
   "outputs": [],
   "source": [
    "glue_train = glue['train'].map(bert_inputs_processor).prefetch(1)"
   ]
  },
  {
   "cell_type": "markdown",
   "metadata": {
    "id": "KXpiDosO9rkY"
   },
   "source": [
    "Here is an example batch from the processed dataset:"
   ]
  },
  {
   "cell_type": "code",
   "execution_count": 19,
   "metadata": {
    "execution": {
     "iopub.execute_input": "2022-12-16T12:11:08.803170Z",
     "iopub.status.busy": "2022-12-16T12:11:08.802893Z",
     "iopub.status.idle": "2022-12-16T12:11:10.012652Z",
     "shell.execute_reply": "2022-12-16T12:11:10.011893Z"
    },
    "id": "ffNvDE6t9rP-"
   },
   "outputs": [],
   "source": [
    "example_inputs, example_labels = next(iter(glue_train))"
   ]
  },
  {
   "cell_type": "code",
   "execution_count": 20,
   "metadata": {
    "execution": {
     "iopub.execute_input": "2022-12-16T12:11:10.015951Z",
     "iopub.status.busy": "2022-12-16T12:11:10.015656Z",
     "iopub.status.idle": "2022-12-16T12:11:10.021441Z",
     "shell.execute_reply": "2022-12-16T12:11:10.020826Z"
    },
    "id": "5sxtTuUi-bXt"
   },
   "outputs": [
    {
     "data": {
      "text/plain": [
       "{'input_word_ids': <tf.Tensor: shape=(32, 128), dtype=int32, numpy=\n",
       " array([[ 101, 1996, 7235, ...,    0,    0,    0],\n",
       "        [ 101, 2625, 2084, ...,    0,    0,    0],\n",
       "        [ 101, 6804, 1011, ...,    0,    0,    0],\n",
       "        ...,\n",
       "        [ 101, 2021, 2049, ...,    0,    0,    0],\n",
       "        [ 101, 2274, 2062, ...,    0,    0,    0],\n",
       "        [ 101, 2043, 1037, ...,    0,    0,    0]])>,\n",
       " 'input_mask': <tf.Tensor: shape=(32, 128), dtype=int32, numpy=\n",
       " array([[1, 1, 1, ..., 0, 0, 0],\n",
       "        [1, 1, 1, ..., 0, 0, 0],\n",
       "        [1, 1, 1, ..., 0, 0, 0],\n",
       "        ...,\n",
       "        [1, 1, 1, ..., 0, 0, 0],\n",
       "        [1, 1, 1, ..., 0, 0, 0],\n",
       "        [1, 1, 1, ..., 0, 0, 0]])>,\n",
       " 'input_type_ids': <tf.Tensor: shape=(32, 128), dtype=int32, numpy=\n",
       " array([[0, 0, 0, ..., 0, 0, 0],\n",
       "        [0, 0, 0, ..., 0, 0, 0],\n",
       "        [0, 0, 0, ..., 0, 0, 0],\n",
       "        ...,\n",
       "        [0, 0, 0, ..., 0, 0, 0],\n",
       "        [0, 0, 0, ..., 0, 0, 0],\n",
       "        [0, 0, 0, ..., 0, 0, 0]])>}"
      ]
     },
     "execution_count": 20,
     "metadata": {},
     "output_type": "execute_result"
    }
   ],
   "source": [
    "example_inputs"
   ]
  },
  {
   "cell_type": "code",
   "execution_count": 21,
   "metadata": {
    "execution": {
     "iopub.execute_input": "2022-12-16T12:11:10.024885Z",
     "iopub.status.busy": "2022-12-16T12:11:10.024230Z",
     "iopub.status.idle": "2022-12-16T12:11:10.028926Z",
     "shell.execute_reply": "2022-12-16T12:11:10.028186Z"
    },
    "id": "wP4z_-9a-dFk"
   },
   "outputs": [
    {
     "data": {
      "text/plain": [
       "<tf.Tensor: shape=(32,), dtype=int64, numpy=\n",
       "array([0, 0, 1, 1, 0, 0, 1, 1, 1, 1, 1, 1, 0, 1, 1, 0, 1, 1, 1, 0, 1, 1,\n",
       "       1, 1, 1, 1, 1, 0, 0, 1, 0, 1], dtype=int64)>"
      ]
     },
     "execution_count": 21,
     "metadata": {},
     "output_type": "execute_result"
    }
   ],
   "source": [
    "example_labels"
   ]
  },
  {
   "cell_type": "code",
   "execution_count": 22,
   "metadata": {
    "execution": {
     "iopub.execute_input": "2022-12-16T12:11:10.032067Z",
     "iopub.status.busy": "2022-12-16T12:11:10.031377Z",
     "iopub.status.idle": "2022-12-16T12:11:10.035432Z",
     "shell.execute_reply": "2022-12-16T12:11:10.034824Z"
    },
    "id": "jyjTdGpFhO_1"
   },
   "outputs": [
    {
     "name": "stdout",
     "output_type": "stream",
     "text": [
      "input_word_ids  shape: (32, 128)\n",
      "input_mask      shape: (32, 128)\n",
      "input_type_ids  shape: (32, 128)\n",
      "labels          shape: (32,)\n"
     ]
    }
   ],
   "source": [
    "for key, value in example_inputs.items():\n",
    "  print(f'{key:15s} shape: {value.shape}')\n",
    "\n",
    "print(f'{\"labels\":15s} shape: {example_labels.shape}')"
   ]
  },
  {
   "cell_type": "markdown",
   "metadata": {
    "id": "mkGHN_FK-50U"
   },
   "source": [
    "The `input_word_ids` contain the token IDs:"
   ]
  },
  {
   "cell_type": "code",
   "execution_count": 23,
   "metadata": {
    "execution": {
     "iopub.execute_input": "2022-12-16T12:11:10.038717Z",
     "iopub.status.busy": "2022-12-16T12:11:10.038118Z",
     "iopub.status.idle": "2022-12-16T12:11:10.241524Z",
     "shell.execute_reply": "2022-12-16T12:11:10.240938Z"
    },
    "id": "eGL1_ktWLcgF"
   },
   "outputs": [
    {
     "data": {
      "text/plain": [
       "<matplotlib.collections.QuadMesh at 0x27e10432ee0>"
      ]
     },
     "execution_count": 23,
     "metadata": {},
     "output_type": "execute_result"
    },
    {
     "data": {
      "image/png": "[encoded data removed]",
      "text/plain": [
       "<Figure size 640x480 with 1 Axes>"
      ]
     },
     "metadata": {},
     "output_type": "display_data"
    }
   ],
   "source": [
    "plt.pcolormesh(example_inputs['input_word_ids'])"
   ]
  },
  {
   "cell_type": "markdown",
   "metadata": {
    "id": "ulNZ4U96-8JZ"
   },
   "source": [
    "The mask allows the model to cleanly differentiate between the content and the padding. The mask has the same shape as the `input_word_ids`, and contains a `1` anywhere the `input_word_ids` is not padding."
   ]
  },
  {
   "cell_type": "code",
   "execution_count": 24,
   "metadata": {
    "execution": {
     "iopub.execute_input": "2022-12-16T12:11:10.245056Z",
     "iopub.status.busy": "2022-12-16T12:11:10.244433Z",
     "iopub.status.idle": "2022-12-16T12:11:10.365565Z",
     "shell.execute_reply": "2022-12-16T12:11:10.364957Z"
    },
    "id": "zB7mW7DGK3rW"
   },
   "outputs": [
    {
     "data": {
      "text/plain": [
       "<matplotlib.collections.QuadMesh at 0x27e0c99a250>"
      ]
     },
     "execution_count": 24,
     "metadata": {},
     "output_type": "execute_result"
    },
    {
     "data": {
      "image/png": "[encoded data removed]",
      "text/plain": [
       "<Figure size 640x480 with 1 Axes>"
      ]
     },
     "metadata": {},
     "output_type": "display_data"
    }
   ],
   "source": [
    "plt.pcolormesh(example_inputs['input_mask'])"
   ]
  },
  {
   "cell_type": "markdown",
   "metadata": {
    "id": "rxLenwAvCkBf"
   },
   "source": [
    "The \"input type\" also has the same shape, but inside the non-padded region, contains a `0` or a `1` indicating which sentence the token is a part of."
   ]
  },
  {
   "cell_type": "code",
   "execution_count": 25,
   "metadata": {
    "execution": {
     "iopub.execute_input": "2022-12-16T12:11:10.369127Z",
     "iopub.status.busy": "2022-12-16T12:11:10.368583Z",
     "iopub.status.idle": "2022-12-16T12:11:10.490982Z",
     "shell.execute_reply": "2022-12-16T12:11:10.490435Z"
    },
    "id": "2CetH_5C9P2m"
   },
   "outputs": [
    {
     "data": {
      "text/plain": [
       "<matplotlib.collections.QuadMesh at 0x27e101cac10>"
      ]
     },
     "execution_count": 25,
     "metadata": {},
     "output_type": "execute_result"
    },
    {
     "data": {
      "image/png": "[encoded data removed]",
      "text/plain": [
       "<Figure size 640x480 with 1 Axes>"
      ]
     },
     "metadata": {},
     "output_type": "display_data"
    }
   ],
   "source": [
    "plt.pcolormesh(example_inputs['input_type_ids'])"
   ]
  },
  {
   "cell_type": "markdown",
   "metadata": {
    "id": "pxHHeyei_sb9"
   },
   "source": [
    "Apply the same preprocessing to the validation and test subsets of the GLUE MRPC dataset:"
   ]
  },
  {
   "cell_type": "code",
   "execution_count": 26,
   "metadata": {
    "execution": {
     "iopub.execute_input": "2022-12-16T12:11:10.494184Z",
     "iopub.status.busy": "2022-12-16T12:11:10.493965Z",
     "iopub.status.idle": "2022-12-16T12:11:14.026372Z",
     "shell.execute_reply": "2022-12-16T12:11:14.025614Z"
    },
    "id": "yuLKxf6zHxw-"
   },
   "outputs": [],
   "source": [
    "glue_validation = glue['validation'].map(bert_inputs_processor).prefetch(1)\n",
    "glue_test = glue['test'].map(bert_inputs_processor).prefetch(1)"
   ]
  },
  {
   "cell_type": "markdown",
   "metadata": {
    "id": "FSwymsbkbLDA"
   },
   "source": [
    "## Build, train and export the model"
   ]
  },
  {
   "cell_type": "markdown",
   "metadata": {
    "id": "bxxO3pJCEM9p"
   },
   "source": [
    "Now that you have formatted the data as expected, you can start working on building and training the model."
   ]
  },
  {
   "cell_type": "markdown",
   "metadata": {
    "id": "Efrj3Cn1kLAp"
   },
   "source": [
    "### Build the model\n"
   ]
  },
  {
   "cell_type": "markdown",
   "metadata": {
    "id": "xxpOY5r2Ayq6"
   },
   "source": [
    "The first step is to download the configuration file—`config_dict`—for the pre-trained BERT model:\n"
   ]
  },
  {
   "cell_type": "code",
   "execution_count": 27,
   "metadata": {
    "execution": {
     "iopub.execute_input": "2022-12-16T12:11:14.031669Z",
     "iopub.status.busy": "2022-12-16T12:11:14.030895Z",
     "iopub.status.idle": "2022-12-16T12:11:14.183205Z",
     "shell.execute_reply": "2022-12-16T12:11:14.182557Z"
    },
    "id": "v7ap0BONSJuz"
   },
   "outputs": [
    {
     "data": {
      "text/plain": [
       "{'hidden_size': 768,\n",
       " 'hidden_act': 'gelu',\n",
       " 'initializer_range': 0.02,\n",
       " 'vocab_size': 30522,\n",
       " 'hidden_dropout_prob': 0.1,\n",
       " 'num_attention_heads': 12,\n",
       " 'type_vocab_size': 2,\n",
       " 'max_position_embeddings': 512,\n",
       " 'num_hidden_layers': 12,\n",
       " 'intermediate_size': 3072,\n",
       " 'attention_probs_dropout_prob': 0.1}"
      ]
     },
     "execution_count": 27,
     "metadata": {},
     "output_type": "execute_result"
    }
   ],
   "source": [
    "import json\n",
    "\n",
    "bert_config_file = os.path.join(gs_folder_bert, \"bert_config.json\")\n",
    "config_dict = json.loads(tf.io.gfile.GFile(bert_config_file).read())\n",
    "config_dict"
   ]
  },
  {
   "cell_type": "code",
   "execution_count": 28,
   "metadata": {
    "execution": {
     "iopub.execute_input": "2022-12-16T12:11:14.186735Z",
     "iopub.status.busy": "2022-12-16T12:11:14.186159Z",
     "iopub.status.idle": "2022-12-16T12:11:14.189976Z",
     "shell.execute_reply": "2022-12-16T12:11:14.189374Z"
    },
    "id": "pKaEaKJSX85J"
   },
   "outputs": [],
   "source": [
    "encoder_config = tfm.nlp.encoders.EncoderConfig({\n",
    "    'type':'bert',\n",
    "    'bert': config_dict\n",
    "})"
   ]
  },
  {
   "cell_type": "code",
   "execution_count": 29,
   "metadata": {
    "execution": {
     "iopub.execute_input": "2022-12-16T12:11:14.193170Z",
     "iopub.status.busy": "2022-12-16T12:11:14.192691Z",
     "iopub.status.idle": "2022-12-16T12:11:16.004988Z",
     "shell.execute_reply": "2022-12-16T12:11:16.004238Z"
    },
    "id": "LbgzWukNSqOS"
   },
   "outputs": [
    {
     "data": {
      "text/plain": [
       "<official.nlp.modeling.networks.bert_encoder.BertEncoder at 0x27e102ec130>"
      ]
     },
     "execution_count": 29,
     "metadata": {},
     "output_type": "execute_result"
    }
   ],
   "source": [
    "bert_encoder = tfm.nlp.encoders.build_encoder(encoder_config)\n",
    "bert_encoder"
   ]
  },
  {
   "cell_type": "markdown",
   "metadata": {
    "id": "96ldxDSwkVkj"
   },
   "source": [
    "The configuration file defines the core BERT model from the Model Garden, which is a Keras model that predicts the outputs of `num_classes` from the inputs with maximum sequence length `max_seq_length`."
   ]
  },
  {
   "cell_type": "code",
   "execution_count": 30,
   "metadata": {
    "execution": {
     "iopub.execute_input": "2022-12-16T12:11:16.008244Z",
     "iopub.status.busy": "2022-12-16T12:11:16.008011Z",
     "iopub.status.idle": "2022-12-16T12:11:16.727249Z",
     "shell.execute_reply": "2022-12-16T12:11:16.726559Z"
    },
    "id": "cH682__U0FBv"
   },
   "outputs": [],
   "source": [
    "bert_classifier = tfm.nlp.models.BertClassifier(network=bert_encoder, num_classes=2)"
   ]
  },
  {
   "cell_type": "markdown",
   "metadata": {
    "id": "sFmVG4SKZAw8"
   },
   "source": [
    "Run it on a test batch of data 10 examples from the training set. The output is the logits for the two classes:"
   ]
  },
  {
   "cell_type": "code",
   "execution_count": 31,
   "metadata": {
    "execution": {
     "iopub.execute_input": "2022-12-16T12:11:16.731654Z",
     "iopub.status.busy": "2022-12-16T12:11:16.731067Z",
     "iopub.status.idle": "2022-12-16T12:11:18.973271Z",
     "shell.execute_reply": "2022-12-16T12:11:18.972607Z"
    },
    "id": "VTjgPbp4ZDKo"
   },
   "outputs": [
    {
     "data": {
      "text/plain": [
       "array([[ 0.76897675, -0.42150265],\n",
       "       [ 0.2862234 , -0.30467808],\n",
       "       [ 0.6650464 , -0.51833904],\n",
       "       [-0.38456738, -0.59894884],\n",
       "       [ 0.05567476,  0.3855111 ],\n",
       "       [ 0.14243558, -0.5675181 ],\n",
       "       [ 0.61309695,  0.02499393],\n",
       "       [ 0.3509035 , -0.37993816],\n",
       "       [ 0.23716712,  0.37001625],\n",
       "       [ 0.73130906, -0.43399343]], dtype=float32)"
      ]
     },
     "execution_count": 31,
     "metadata": {},
     "output_type": "execute_result"
    }
   ],
   "source": [
    "bert_classifier(\n",
    "    example_inputs, training=True).numpy()[:10]"
   ]
  },
  {
   "cell_type": "markdown",
   "metadata": {
    "id": "Q0NTdwZsQK8n"
   },
   "source": [
    "The `TransformerEncoder` in the center of the classifier above **is** the `bert_encoder`.\n",
    "\n",
    "If you inspect the encoder, notice the stack of `Transformer` layers connected to those same three inputs:"
   ]
  },
  {
   "cell_type": "code",
   "execution_count": 32,
   "metadata": {
    "execution": {
     "iopub.execute_input": "2022-12-16T12:11:18.976713Z",
     "iopub.status.busy": "2022-12-16T12:11:18.976204Z",
     "iopub.status.idle": "2022-12-16T12:11:19.223221Z",
     "shell.execute_reply": "2022-12-16T12:11:19.222431Z"
    },
    "id": "8L__-erBwLIQ"
   },
   "outputs": [
    {
     "name": "stdout",
     "output_type": "stream",
     "text": [
      "You must install pydot (`pip install pydot`) and install graphviz (see instructions at https://graphviz.gitlab.io/download/) for plot_model to work.\n"
     ]
    }
   ],
   "source": [
    "tf.keras.utils.plot_model(bert_encoder, show_shapes=True, dpi=48)"
   ]
  },
  {
   "cell_type": "markdown",
   "metadata": {
    "id": "mKAvkQc3heSy"
   },
   "source": [
    "### Restore the encoder weights\n",
    "\n",
    "When built, the encoder is randomly initialized. Restore the encoder's weights from the checkpoint:"
   ]
  },
  {
   "cell_type": "code",
   "execution_count": null,
   "metadata": {
    "execution": {
     "iopub.execute_input": "2022-12-16T12:11:19.227763Z",
     "iopub.status.busy": "2022-12-16T12:11:19.227506Z",
     "iopub.status.idle": "2022-12-16T12:11:24.897865Z",
     "shell.execute_reply": "2022-12-16T12:11:24.897220Z"
    },
    "id": "97Ll2Gichd_Y"
   },
   "outputs": [],
   "source": [
    "checkpoint = tf.train.Checkpoint(encoder=bert_encoder)\n",
    "checkpoint.read(\n",
    "    os.path.join(gs_folder_bert, 'bert_model.ckpt')).assert_consumed()"
   ]
  },
  {
   "cell_type": "markdown",
   "metadata": {
    "id": "2oHOql35k3Dd"
   },
   "source": [
    "Note: The pretrained `TransformerEncoder` is also available on [TensorFlow Hub](https://tensorflow.org/hub). Go to the [TF Hub appendix](#hub_bert) for details."
   ]
  },
  {
   "cell_type": "markdown",
   "metadata": {
    "id": "115caFLMk-_l"
   },
   "source": [
    "### Set up the optimizer\n",
    "\n",
    "BERT typically uses the Adam optimizer with weight decay—[AdamW](https://arxiv.org/abs/1711.05101) (`tf.keras.optimizers.experimental.AdamW`).\n",
    "It also employs a learning rate schedule that first warms up from 0 and then decays to 0:"
   ]
  },
  {
   "cell_type": "code",
   "execution_count": 34,
   "metadata": {
    "execution": {
     "iopub.execute_input": "2022-12-16T12:11:24.901292Z",
     "iopub.status.busy": "2022-12-16T12:11:24.901017Z",
     "iopub.status.idle": "2022-12-16T12:11:24.904958Z",
     "shell.execute_reply": "2022-12-16T12:11:24.904380Z"
    },
    "id": "c0jBycPDtkxR"
   },
   "outputs": [],
   "source": [
    "# Set up epochs and steps\n",
    "epochs = 5\n",
    "batch_size = 32\n",
    "eval_batch_size = 32\n",
    "\n",
    "train_data_size = info.splits['train'].num_examples\n",
    "steps_per_epoch = int(train_data_size / batch_size)\n",
    "num_train_steps = steps_per_epoch * epochs\n",
    "warmup_steps = int(0.1 * num_train_steps)\n",
    "initial_learning_rate=2e-5"
   ]
  },
  {
   "cell_type": "markdown",
   "metadata": {
    "id": "GFankgHK0Rvh"
   },
   "source": [
    "Linear decay from `initial_learning_rate` to zero over `num_train_steps`."
   ]
  },
  {
   "cell_type": "code",
   "execution_count": 35,
   "metadata": {
    "execution": {
     "iopub.execute_input": "2022-12-16T12:11:24.908220Z",
     "iopub.status.busy": "2022-12-16T12:11:24.907605Z",
     "iopub.status.idle": "2022-12-16T12:11:24.910898Z",
     "shell.execute_reply": "2022-12-16T12:11:24.910329Z"
    },
    "id": "qWSyT8P2j4mV"
   },
   "outputs": [],
   "source": [
    "linear_decay = tf.keras.optimizers.schedules.PolynomialDecay(\n",
    "    initial_learning_rate=initial_learning_rate,\n",
    "    end_learning_rate=0,\n",
    "    decay_steps=num_train_steps)"
   ]
  },
  {
   "cell_type": "markdown",
   "metadata": {
    "id": "anZPZPAP0Y3n"
   },
   "source": [
    "Warmup to that value over `warmup_steps`:"
   ]
  },
  {
   "cell_type": "code",
   "execution_count": 36,
   "metadata": {
    "execution": {
     "iopub.execute_input": "2022-12-16T12:11:24.914423Z",
     "iopub.status.busy": "2022-12-16T12:11:24.913851Z",
     "iopub.status.idle": "2022-12-16T12:11:24.922118Z",
     "shell.execute_reply": "2022-12-16T12:11:24.921546Z"
    },
    "id": "z_AsVCiRkoN1"
   },
   "outputs": [],
   "source": [
    "warmup_schedule = tfm.optimization.lr_schedule.LinearWarmup(\n",
    "    warmup_learning_rate = 0,\n",
    "    after_warmup_lr_sched = linear_decay,\n",
    "    warmup_steps = warmup_steps\n",
    ")"
   ]
  },
  {
   "cell_type": "markdown",
   "metadata": {
    "id": "arfbaK6t0kH_"
   },
   "source": [
    "The overall schedule looks like this:"
   ]
  },
  {
   "cell_type": "code",
   "execution_count": 37,
   "metadata": {
    "execution": {
     "iopub.execute_input": "2022-12-16T12:11:24.925478Z",
     "iopub.status.busy": "2022-12-16T12:11:24.924912Z",
     "iopub.status.idle": "2022-12-16T12:11:26.902445Z",
     "shell.execute_reply": "2022-12-16T12:11:26.901788Z"
    },
    "id": "rYZGunhqbGUZ"
   },
   "outputs": [
    {
     "data": {
      "text/plain": [
       "Text(0, 0.5, 'Learning rate')"
      ]
     },
     "execution_count": 37,
     "metadata": {},
     "output_type": "execute_result"
    },
    {
     "data": {
      "image/png": "[encoded data removed]",
      "text/plain": [
       "<Figure size 640x480 with 1 Axes>"
      ]
     },
     "metadata": {},
     "output_type": "display_data"
    }
   ],
   "source": [
    "x = tf.linspace(0, num_train_steps, 1001)\n",
    "y = [warmup_schedule(xi) for xi in x]\n",
    "plt.plot(x,y)\n",
    "plt.xlabel('Train step')\n",
    "plt.ylabel('Learning rate')"
   ]
  },
  {
   "cell_type": "markdown",
   "metadata": {
    "id": "bjsmG_fm0opn"
   },
   "source": [
    "Use `tf.keras.optimizers.experimental.AdamW` to instantiate the optimizer with that schedule:"
   ]
  },
  {
   "cell_type": "code",
   "execution_count": 38,
   "metadata": {
    "execution": {
     "iopub.execute_input": "2022-12-16T12:11:26.906089Z",
     "iopub.status.busy": "2022-12-16T12:11:26.905464Z",
     "iopub.status.idle": "2022-12-16T12:11:26.916094Z",
     "shell.execute_reply": "2022-12-16T12:11:26.915526Z"
    },
    "id": "R8pTNuKIw1dA"
   },
   "outputs": [],
   "source": [
    "optimizer = tf.keras.optimizers.experimental.Adam(\n",
    "    learning_rate = warmup_schedule)"
   ]
  },
  {
   "cell_type": "markdown",
   "metadata": {
    "id": "78FEUOOEkoP0"
   },
   "source": [
    "### Train the model"
   ]
  },
  {
   "cell_type": "markdown",
   "metadata": {
    "id": "OTNcA0O0nSq9"
   },
   "source": [
    "Set the metric as accuracy and the loss as sparse categorical cross-entropy. Then, compile and train the BERT classifier:"
   ]
  },
  {
   "cell_type": "code",
   "execution_count": 39,
   "metadata": {
    "execution": {
     "iopub.execute_input": "2022-12-16T12:11:26.919562Z",
     "iopub.status.busy": "2022-12-16T12:11:26.919002Z",
     "iopub.status.idle": "2022-12-16T12:11:26.943633Z",
     "shell.execute_reply": "2022-12-16T12:11:26.943029Z"
    },
    "id": "d5FeL0b6j7ky"
   },
   "outputs": [],
   "source": [
    "metrics = [tf.keras.metrics.SparseCategoricalAccuracy('accuracy', dtype=tf.float32)]\n",
    "loss = tf.keras.losses.SparseCategoricalCrossentropy(from_logits=True)\n",
    "\n",
    "bert_classifier.compile(\n",
    "    optimizer=optimizer,\n",
    "    loss=loss,\n",
    "    metrics=metrics)"
   ]
  },
  {
   "cell_type": "code",
   "execution_count": 40,
   "metadata": {
    "execution": {
     "iopub.execute_input": "2022-12-16T12:11:26.946960Z",
     "iopub.status.busy": "2022-12-16T12:11:26.946467Z",
     "iopub.status.idle": "2022-12-16T12:11:31.986044Z",
     "shell.execute_reply": "2022-12-16T12:11:31.985333Z"
    },
    "id": "CsrylctIj_Xy"
   },
   "outputs": [
    {
     "name": "stdout",
     "output_type": "stream",
     "text": [
      "13/13 [==============================] - 67s 5s/step - loss: 0.7390 - accuracy: 0.3137\n"
     ]
    },
    {
     "data": {
      "text/plain": [
       "[0.7390467524528503, 0.3137255012989044]"
      ]
     },
     "execution_count": 40,
     "metadata": {},
     "output_type": "execute_result"
    }
   ],
   "source": [
    "bert_classifier.evaluate(glue_validation)"
   ]
  },
  {
   "cell_type": "code",
   "execution_count": 41,
   "metadata": {
    "execution": {
     "iopub.execute_input": "2022-12-16T12:11:31.989586Z",
     "iopub.status.busy": "2022-12-16T12:11:31.989098Z",
     "iopub.status.idle": "2022-12-16T12:16:51.479904Z",
     "shell.execute_reply": "2022-12-16T12:16:51.479023Z"
    },
    "id": "hgPPc2oNmcVZ"
   },
   "outputs": [
    {
     "name": "stdout",
     "output_type": "stream",
     "text": [
      "Epoch 1/5\n",
      "  6/115 [>.............................] - ETA: 29:19 - loss: 0.7227 - accuracy: 0.5417"
     ]
    },
    {
     "ename": "KeyboardInterrupt",
     "evalue": "",
     "output_type": "error",
     "traceback": [
      "\u001b[1;31m---------------------------------------------------------------------------\u001b[0m",
      "\u001b[1;31mKeyboardInterrupt\u001b[0m                         Traceback (most recent call last)",
      "Cell \u001b[1;32mIn[41], line 1\u001b[0m\n\u001b[1;32m----> 1\u001b[0m bert_classifier\u001b[39m.\u001b[39;49mfit(\n\u001b[0;32m      2\u001b[0m       glue_train,\n\u001b[0;32m      3\u001b[0m       validation_data\u001b[39m=\u001b[39;49m(glue_validation),\n\u001b[0;32m      4\u001b[0m       batch_size\u001b[39m=\u001b[39;49m\u001b[39m32\u001b[39;49m,\n\u001b[0;32m      5\u001b[0m       epochs\u001b[39m=\u001b[39;49mepochs)\n",
      "File \u001b[1;32mc:\\Users\\Elisabeth\\AppData\\Local\\Programs\\Python\\Python39\\lib\\site-packages\\keras\\utils\\traceback_utils.py:65\u001b[0m, in \u001b[0;36mfilter_traceback.<locals>.error_handler\u001b[1;34m(*args, **kwargs)\u001b[0m\n\u001b[0;32m     63\u001b[0m filtered_tb \u001b[39m=\u001b[39m \u001b[39mNone\u001b[39;00m\n\u001b[0;32m     64\u001b[0m \u001b[39mtry\u001b[39;00m:\n\u001b[1;32m---> 65\u001b[0m     \u001b[39mreturn\u001b[39;00m fn(\u001b[39m*\u001b[39margs, \u001b[39m*\u001b[39m\u001b[39m*\u001b[39mkwargs)\n\u001b[0;32m     66\u001b[0m \u001b[39mexcept\u001b[39;00m \u001b[39mException\u001b[39;00m \u001b[39mas\u001b[39;00m e:\n\u001b[0;32m     67\u001b[0m     filtered_tb \u001b[39m=\u001b[39m _process_traceback_frames(e\u001b[39m.\u001b[39m__traceback__)\n",
      "File \u001b[1;32mc:\\Users\\Elisabeth\\AppData\\Local\\Programs\\Python\\Python39\\lib\\site-packages\\keras\\engine\\training.py:1564\u001b[0m, in \u001b[0;36mModel.fit\u001b[1;34m(self, x, y, batch_size, epochs, verbose, callbacks, validation_split, validation_data, shuffle, class_weight, sample_weight, initial_epoch, steps_per_epoch, validation_steps, validation_batch_size, validation_freq, max_queue_size, workers, use_multiprocessing)\u001b[0m\n\u001b[0;32m   1556\u001b[0m \u001b[39mwith\u001b[39;00m tf\u001b[39m.\u001b[39mprofiler\u001b[39m.\u001b[39mexperimental\u001b[39m.\u001b[39mTrace(\n\u001b[0;32m   1557\u001b[0m     \u001b[39m\"\u001b[39m\u001b[39mtrain\u001b[39m\u001b[39m\"\u001b[39m,\n\u001b[0;32m   1558\u001b[0m     epoch_num\u001b[39m=\u001b[39mepoch,\n\u001b[1;32m   (...)\u001b[0m\n\u001b[0;32m   1561\u001b[0m     _r\u001b[39m=\u001b[39m\u001b[39m1\u001b[39m,\n\u001b[0;32m   1562\u001b[0m ):\n\u001b[0;32m   1563\u001b[0m     callbacks\u001b[39m.\u001b[39mon_train_batch_begin(step)\n\u001b[1;32m-> 1564\u001b[0m     tmp_logs \u001b[39m=\u001b[39m \u001b[39mself\u001b[39;49m\u001b[39m.\u001b[39;49mtrain_function(iterator)\n\u001b[0;32m   1565\u001b[0m     \u001b[39mif\u001b[39;00m data_handler\u001b[39m.\u001b[39mshould_sync:\n\u001b[0;32m   1566\u001b[0m         context\u001b[39m.\u001b[39masync_wait()\n",
      "File \u001b[1;32mc:\\Users\\Elisabeth\\AppData\\Local\\Programs\\Python\\Python39\\lib\\site-packages\\tensorflow\\python\\util\\traceback_utils.py:150\u001b[0m, in \u001b[0;36mfilter_traceback.<locals>.error_handler\u001b[1;34m(*args, **kwargs)\u001b[0m\n\u001b[0;32m    148\u001b[0m filtered_tb \u001b[39m=\u001b[39m \u001b[39mNone\u001b[39;00m\n\u001b[0;32m    149\u001b[0m \u001b[39mtry\u001b[39;00m:\n\u001b[1;32m--> 150\u001b[0m   \u001b[39mreturn\u001b[39;00m fn(\u001b[39m*\u001b[39margs, \u001b[39m*\u001b[39m\u001b[39m*\u001b[39mkwargs)\n\u001b[0;32m    151\u001b[0m \u001b[39mexcept\u001b[39;00m \u001b[39mException\u001b[39;00m \u001b[39mas\u001b[39;00m e:\n\u001b[0;32m    152\u001b[0m   filtered_tb \u001b[39m=\u001b[39m _process_traceback_frames(e\u001b[39m.\u001b[39m__traceback__)\n",
      "File \u001b[1;32mc:\\Users\\Elisabeth\\AppData\\Local\\Programs\\Python\\Python39\\lib\\site-packages\\tensorflow\\python\\eager\\def_function.py:915\u001b[0m, in \u001b[0;36mFunction.__call__\u001b[1;34m(self, *args, **kwds)\u001b[0m\n\u001b[0;32m    912\u001b[0m compiler \u001b[39m=\u001b[39m \u001b[39m\"\u001b[39m\u001b[39mxla\u001b[39m\u001b[39m\"\u001b[39m \u001b[39mif\u001b[39;00m \u001b[39mself\u001b[39m\u001b[39m.\u001b[39m_jit_compile \u001b[39melse\u001b[39;00m \u001b[39m\"\u001b[39m\u001b[39mnonXla\u001b[39m\u001b[39m\"\u001b[39m\n\u001b[0;32m    914\u001b[0m \u001b[39mwith\u001b[39;00m OptionalXlaContext(\u001b[39mself\u001b[39m\u001b[39m.\u001b[39m_jit_compile):\n\u001b[1;32m--> 915\u001b[0m   result \u001b[39m=\u001b[39m \u001b[39mself\u001b[39m\u001b[39m.\u001b[39m_call(\u001b[39m*\u001b[39margs, \u001b[39m*\u001b[39m\u001b[39m*\u001b[39mkwds)\n\u001b[0;32m    917\u001b[0m new_tracing_count \u001b[39m=\u001b[39m \u001b[39mself\u001b[39m\u001b[39m.\u001b[39mexperimental_get_tracing_count()\n\u001b[0;32m    918\u001b[0m without_tracing \u001b[39m=\u001b[39m (tracing_count \u001b[39m==\u001b[39m new_tracing_count)\n",
      "File \u001b[1;32mc:\\Users\\Elisabeth\\AppData\\Local\\Programs\\Python\\Python39\\lib\\site-packages\\tensorflow\\python\\eager\\def_function.py:947\u001b[0m, in \u001b[0;36mFunction._call\u001b[1;34m(self, *args, **kwds)\u001b[0m\n\u001b[0;32m    944\u001b[0m   \u001b[39mself\u001b[39m\u001b[39m.\u001b[39m_lock\u001b[39m.\u001b[39mrelease()\n\u001b[0;32m    945\u001b[0m   \u001b[39m# In this case we have created variables on the first call, so we run the\u001b[39;00m\n\u001b[0;32m    946\u001b[0m   \u001b[39m# defunned version which is guaranteed to never create variables.\u001b[39;00m\n\u001b[1;32m--> 947\u001b[0m   \u001b[39mreturn\u001b[39;00m \u001b[39mself\u001b[39m\u001b[39m.\u001b[39m_stateless_fn(\u001b[39m*\u001b[39margs, \u001b[39m*\u001b[39m\u001b[39m*\u001b[39mkwds)  \u001b[39m# pylint: disable=not-callable\u001b[39;00m\n\u001b[0;32m    948\u001b[0m \u001b[39melif\u001b[39;00m \u001b[39mself\u001b[39m\u001b[39m.\u001b[39m_stateful_fn \u001b[39mis\u001b[39;00m \u001b[39mnot\u001b[39;00m \u001b[39mNone\u001b[39;00m:\n\u001b[0;32m    949\u001b[0m   \u001b[39m# Release the lock early so that multiple threads can perform the call\u001b[39;00m\n\u001b[0;32m    950\u001b[0m   \u001b[39m# in parallel.\u001b[39;00m\n\u001b[0;32m    951\u001b[0m   \u001b[39mself\u001b[39m\u001b[39m.\u001b[39m_lock\u001b[39m.\u001b[39mrelease()\n",
      "File \u001b[1;32mc:\\Users\\Elisabeth\\AppData\\Local\\Programs\\Python\\Python39\\lib\\site-packages\\tensorflow\\python\\eager\\function.py:2496\u001b[0m, in \u001b[0;36mFunction.__call__\u001b[1;34m(self, *args, **kwargs)\u001b[0m\n\u001b[0;32m   2493\u001b[0m \u001b[39mwith\u001b[39;00m \u001b[39mself\u001b[39m\u001b[39m.\u001b[39m_lock:\n\u001b[0;32m   2494\u001b[0m   (graph_function,\n\u001b[0;32m   2495\u001b[0m    filtered_flat_args) \u001b[39m=\u001b[39m \u001b[39mself\u001b[39m\u001b[39m.\u001b[39m_maybe_define_function(args, kwargs)\n\u001b[1;32m-> 2496\u001b[0m \u001b[39mreturn\u001b[39;00m graph_function\u001b[39m.\u001b[39;49m_call_flat(\n\u001b[0;32m   2497\u001b[0m     filtered_flat_args, captured_inputs\u001b[39m=\u001b[39;49mgraph_function\u001b[39m.\u001b[39;49mcaptured_inputs)\n",
      "File \u001b[1;32mc:\\Users\\Elisabeth\\AppData\\Local\\Programs\\Python\\Python39\\lib\\site-packages\\tensorflow\\python\\eager\\function.py:1862\u001b[0m, in \u001b[0;36mConcreteFunction._call_flat\u001b[1;34m(self, args, captured_inputs, cancellation_manager)\u001b[0m\n\u001b[0;32m   1858\u001b[0m possible_gradient_type \u001b[39m=\u001b[39m gradients_util\u001b[39m.\u001b[39mPossibleTapeGradientTypes(args)\n\u001b[0;32m   1859\u001b[0m \u001b[39mif\u001b[39;00m (possible_gradient_type \u001b[39m==\u001b[39m gradients_util\u001b[39m.\u001b[39mPOSSIBLE_GRADIENT_TYPES_NONE\n\u001b[0;32m   1860\u001b[0m     \u001b[39mand\u001b[39;00m executing_eagerly):\n\u001b[0;32m   1861\u001b[0m   \u001b[39m# No tape is watching; skip to running the function.\u001b[39;00m\n\u001b[1;32m-> 1862\u001b[0m   \u001b[39mreturn\u001b[39;00m \u001b[39mself\u001b[39m\u001b[39m.\u001b[39m_build_call_outputs(\u001b[39mself\u001b[39;49m\u001b[39m.\u001b[39;49m_inference_function\u001b[39m.\u001b[39;49mcall(\n\u001b[0;32m   1863\u001b[0m       ctx, args, cancellation_manager\u001b[39m=\u001b[39;49mcancellation_manager))\n\u001b[0;32m   1864\u001b[0m forward_backward \u001b[39m=\u001b[39m \u001b[39mself\u001b[39m\u001b[39m.\u001b[39m_select_forward_and_backward_functions(\n\u001b[0;32m   1865\u001b[0m     args,\n\u001b[0;32m   1866\u001b[0m     possible_gradient_type,\n\u001b[0;32m   1867\u001b[0m     executing_eagerly)\n\u001b[0;32m   1868\u001b[0m forward_function, args_with_tangents \u001b[39m=\u001b[39m forward_backward\u001b[39m.\u001b[39mforward()\n",
      "File \u001b[1;32mc:\\Users\\Elisabeth\\AppData\\Local\\Programs\\Python\\Python39\\lib\\site-packages\\tensorflow\\python\\eager\\function.py:499\u001b[0m, in \u001b[0;36m_EagerDefinedFunction.call\u001b[1;34m(self, ctx, args, cancellation_manager)\u001b[0m\n\u001b[0;32m    497\u001b[0m \u001b[39mwith\u001b[39;00m _InterpolateFunctionError(\u001b[39mself\u001b[39m):\n\u001b[0;32m    498\u001b[0m   \u001b[39mif\u001b[39;00m cancellation_manager \u001b[39mis\u001b[39;00m \u001b[39mNone\u001b[39;00m:\n\u001b[1;32m--> 499\u001b[0m     outputs \u001b[39m=\u001b[39m execute\u001b[39m.\u001b[39;49mexecute(\n\u001b[0;32m    500\u001b[0m         \u001b[39mstr\u001b[39;49m(\u001b[39mself\u001b[39;49m\u001b[39m.\u001b[39;49msignature\u001b[39m.\u001b[39;49mname),\n\u001b[0;32m    501\u001b[0m         num_outputs\u001b[39m=\u001b[39;49m\u001b[39mself\u001b[39;49m\u001b[39m.\u001b[39;49m_num_outputs,\n\u001b[0;32m    502\u001b[0m         inputs\u001b[39m=\u001b[39;49margs,\n\u001b[0;32m    503\u001b[0m         attrs\u001b[39m=\u001b[39;49mattrs,\n\u001b[0;32m    504\u001b[0m         ctx\u001b[39m=\u001b[39;49mctx)\n\u001b[0;32m    505\u001b[0m   \u001b[39melse\u001b[39;00m:\n\u001b[0;32m    506\u001b[0m     outputs \u001b[39m=\u001b[39m execute\u001b[39m.\u001b[39mexecute_with_cancellation(\n\u001b[0;32m    507\u001b[0m         \u001b[39mstr\u001b[39m(\u001b[39mself\u001b[39m\u001b[39m.\u001b[39msignature\u001b[39m.\u001b[39mname),\n\u001b[0;32m    508\u001b[0m         num_outputs\u001b[39m=\u001b[39m\u001b[39mself\u001b[39m\u001b[39m.\u001b[39m_num_outputs,\n\u001b[1;32m   (...)\u001b[0m\n\u001b[0;32m    511\u001b[0m         ctx\u001b[39m=\u001b[39mctx,\n\u001b[0;32m    512\u001b[0m         cancellation_manager\u001b[39m=\u001b[39mcancellation_manager)\n",
      "File \u001b[1;32mc:\\Users\\Elisabeth\\AppData\\Local\\Programs\\Python\\Python39\\lib\\site-packages\\tensorflow\\python\\eager\\execute.py:54\u001b[0m, in \u001b[0;36mquick_execute\u001b[1;34m(op_name, num_outputs, inputs, attrs, ctx, name)\u001b[0m\n\u001b[0;32m     52\u001b[0m \u001b[39mtry\u001b[39;00m:\n\u001b[0;32m     53\u001b[0m   ctx\u001b[39m.\u001b[39mensure_initialized()\n\u001b[1;32m---> 54\u001b[0m   tensors \u001b[39m=\u001b[39m pywrap_tfe\u001b[39m.\u001b[39;49mTFE_Py_Execute(ctx\u001b[39m.\u001b[39;49m_handle, device_name, op_name,\n\u001b[0;32m     55\u001b[0m                                       inputs, attrs, num_outputs)\n\u001b[0;32m     56\u001b[0m \u001b[39mexcept\u001b[39;00m core\u001b[39m.\u001b[39m_NotOkStatusException \u001b[39mas\u001b[39;00m e:\n\u001b[0;32m     57\u001b[0m   \u001b[39mif\u001b[39;00m name \u001b[39mis\u001b[39;00m \u001b[39mnot\u001b[39;00m \u001b[39mNone\u001b[39;00m:\n",
      "\u001b[1;31mKeyboardInterrupt\u001b[0m: "
     ]
    }
   ],
   "source": [
    "bert_classifier.fit(\n",
    "      glue_train,\n",
    "      validation_data=(glue_validation),\n",
    "      batch_size=32,\n",
    "      epochs=epochs)"
   ]
  },
  {
   "cell_type": "markdown",
   "metadata": {
    "id": "IFtKFWbNKb0u"
   },
   "source": [
    "Now run the fine-tuned model on a custom example to see that it works.\n",
    "\n",
    "Start by encoding some sentence pairs:"
   ]
  },
  {
   "cell_type": "code",
   "execution_count": null,
   "metadata": {
    "execution": {
     "iopub.execute_input": "2022-12-16T12:16:51.483354Z",
     "iopub.status.busy": "2022-12-16T12:16:51.483103Z",
     "iopub.status.idle": "2022-12-16T12:16:51.486728Z",
     "shell.execute_reply": "2022-12-16T12:16:51.486142Z"
    },
    "id": "S1sdW6lLWaEi"
   },
   "outputs": [],
   "source": [
    "my_examples = {\n",
    "        'sentence1':[\n",
    "            'The rain in Spain falls mainly on the plain.',\n",
    "            'Look I fine tuned BERT.'],\n",
    "        'sentence2':[\n",
    "            'It mostly rains on the flat lands of Spain.',\n",
    "            'Is it working? This does not match.']\n",
    "    }"
   ]
  },
  {
   "cell_type": "markdown",
   "metadata": {
    "id": "7ynJibkBRTJF"
   },
   "source": [
    "The model should report class `1` \"match\" for the first example and class `0` \"no-match\" for the second:"
   ]
  },
  {
   "cell_type": "code",
   "execution_count": null,
   "metadata": {
    "execution": {
     "iopub.execute_input": "2022-12-16T12:16:51.489980Z",
     "iopub.status.busy": "2022-12-16T12:16:51.489451Z",
     "iopub.status.idle": "2022-12-16T12:16:51.883062Z",
     "shell.execute_reply": "2022-12-16T12:16:51.882331Z"
    },
    "id": "umo0ttrgRYIM"
   },
   "outputs": [],
   "source": [
    "ex_packed = bert_inputs_processor(my_examples)\n",
    "my_logits = bert_classifier(ex_packed, training=False)\n",
    "\n",
    "result_cls_ids = tf.argmax(my_logits)\n",
    "result_cls_ids"
   ]
  },
  {
   "cell_type": "code",
   "execution_count": null,
   "metadata": {
    "execution": {
     "iopub.execute_input": "2022-12-16T12:16:51.886438Z",
     "iopub.status.busy": "2022-12-16T12:16:51.885884Z",
     "iopub.status.idle": "2022-12-16T12:16:51.891790Z",
     "shell.execute_reply": "2022-12-16T12:16:51.891145Z"
    },
    "id": "HNdmOEHKT7e8"
   },
   "outputs": [],
   "source": [
    "tf.gather(tf.constant(info.features['label'].names), result_cls_ids)"
   ]
  },
  {
   "cell_type": "markdown",
   "metadata": {
    "id": "fVo_AnT0l26j"
   },
   "source": [
    "### Export the model\n",
    "\n",
    "Often the goal of training a model is to _use_ it for something outside of the Python process that created it. You can do this by exporting the model using `tf.saved_model`. (Learn more in the [Using the SavedModel format](https://www.tensorflow.org/guide/saved_model) guide and the [Save and load a model using a distribution strategy](https://www.tensorflow.org/tutorials/distribute/save_and_load) tutorial.)\n",
    "\n",
    "First, build a wrapper class to export the model. This wrapper does two things:\n",
    "\n",
    "- First it packages `bert_inputs_processor` and `bert_classifier` together into a single `tf.Module`, so you can export all the functionalities.\n",
    "- Second it defines a `tf.function` that implements the end-to-end execution of the model.\n",
    "\n",
    "Setting the `input_signature` argument of `tf.function` lets you define a fixed signature for the `tf.function`. This can be less surprising than the default automatic retracing behavior."
   ]
  },
  {
   "cell_type": "code",
   "execution_count": null,
   "metadata": {
    "execution": {
     "iopub.execute_input": "2022-12-16T12:16:51.894765Z",
     "iopub.status.busy": "2022-12-16T12:16:51.894530Z",
     "iopub.status.idle": "2022-12-16T12:16:51.899804Z",
     "shell.execute_reply": "2022-12-16T12:16:51.899238Z"
    },
    "id": "78h83mlt9wpY"
   },
   "outputs": [],
   "source": [
    "class ExportModel(tf.Module):\n",
    "  def __init__(self, input_processor, classifier):\n",
    "    self.input_processor = input_processor\n",
    "    self.classifier = classifier\n",
    "\n",
    "  @tf.function(input_signature=[{\n",
    "      'sentence1': tf.TensorSpec(shape=[None], dtype=tf.string),\n",
    "      'sentence2': tf.TensorSpec(shape=[None], dtype=tf.string)}])\n",
    "  def __call__(self, inputs):\n",
    "    packed = self.input_processor(inputs)\n",
    "    logits =  self.classifier(packed, training=False)\n",
    "    result_cls_ids = tf.argmax(logits)\n",
    "    return {\n",
    "        'logits': logits,\n",
    "        'class_id': result_cls_ids,\n",
    "        'class': tf.gather(\n",
    "            tf.constant(info.features['label'].names),\n",
    "            result_cls_ids)\n",
    "    }"
   ]
  },
  {
   "cell_type": "markdown",
   "metadata": {
    "id": "qnxysGUfIgFQ"
   },
   "source": [
    "Create an instance of this export-model and save it:"
   ]
  },
  {
   "cell_type": "code",
   "execution_count": null,
   "metadata": {
    "execution": {
     "iopub.execute_input": "2022-12-16T12:16:51.903010Z",
     "iopub.status.busy": "2022-12-16T12:16:51.902453Z",
     "iopub.status.idle": "2022-12-16T12:16:51.905613Z",
     "shell.execute_reply": "2022-12-16T12:16:51.904988Z"
    },
    "id": "TmHW9DEFUZ0X"
   },
   "outputs": [],
   "source": [
    "export_model = ExportModel(bert_inputs_processor, bert_classifier)"
   ]
  },
  {
   "cell_type": "code",
   "execution_count": null,
   "metadata": {
    "execution": {
     "iopub.execute_input": "2022-12-16T12:16:51.908453Z",
     "iopub.status.busy": "2022-12-16T12:16:51.908059Z",
     "iopub.status.idle": "2022-12-16T12:17:19.684561Z",
     "shell.execute_reply": "2022-12-16T12:17:19.683748Z"
    },
    "id": "Nl5x6nElZqkP"
   },
   "outputs": [],
   "source": [
    "import tempfile\n",
    "export_dir=tempfile.mkdtemp(suffix='_saved_model')\n",
    "tf.saved_model.save(export_model, export_dir=export_dir,\n",
    "                    signatures={'serving_default': export_model.__call__})"
   ]
  },
  {
   "cell_type": "markdown",
   "metadata": {
    "id": "Pd8B5dy-ImDJ"
   },
   "source": [
    "Reload the model and compare the results to the original:"
   ]
  },
  {
   "cell_type": "code",
   "execution_count": null,
   "metadata": {
    "execution": {
     "iopub.execute_input": "2022-12-16T12:17:19.689688Z",
     "iopub.status.busy": "2022-12-16T12:17:19.689422Z",
     "iopub.status.idle": "2022-12-16T12:17:23.448889Z",
     "shell.execute_reply": "2022-12-16T12:17:23.448163Z"
    },
    "id": "9cAhHySVXHD5"
   },
   "outputs": [],
   "source": [
    "original_logits = export_model(my_examples)['logits']"
   ]
  },
  {
   "cell_type": "code",
   "execution_count": null,
   "metadata": {
    "execution": {
     "iopub.execute_input": "2022-12-16T12:17:23.452992Z",
     "iopub.status.busy": "2022-12-16T12:17:23.452334Z",
     "iopub.status.idle": "2022-12-16T12:17:32.661142Z",
     "shell.execute_reply": "2022-12-16T12:17:32.660428Z"
    },
    "id": "H9cAcYwfW2fy"
   },
   "outputs": [],
   "source": [
    "reloaded = tf.saved_model.load(export_dir)\n",
    "reloaded_logits = reloaded(my_examples)['logits']"
   ]
  },
  {
   "cell_type": "code",
   "execution_count": null,
   "metadata": {
    "execution": {
     "iopub.execute_input": "2022-12-16T12:17:32.665353Z",
     "iopub.status.busy": "2022-12-16T12:17:32.664736Z",
     "iopub.status.idle": "2022-12-16T12:17:32.669292Z",
     "shell.execute_reply": "2022-12-16T12:17:32.668709Z"
    },
    "id": "y_ACvKPsVUXC"
   },
   "outputs": [],
   "source": [
    "# The results are identical:\n",
    "print(original_logits.numpy())\n",
    "print()\n",
    "print(reloaded_logits.numpy())"
   ]
  },
  {
   "cell_type": "code",
   "execution_count": null,
   "metadata": {
    "execution": {
     "iopub.execute_input": "2022-12-16T12:17:32.672417Z",
     "iopub.status.busy": "2022-12-16T12:17:32.671947Z",
     "iopub.status.idle": "2022-12-16T12:17:32.677215Z",
     "shell.execute_reply": "2022-12-16T12:17:32.676667Z"
    },
    "id": "lBlPP20dXPFR"
   },
   "outputs": [],
   "source": [
    "print(np.mean(abs(original_logits - reloaded_logits)))"
   ]
  },
  {
   "cell_type": "markdown",
   "metadata": {
    "id": "CPsg7dZwfBM2"
   },
   "source": [
    "Congratulations! You've used `tensorflow_models` to build a BERT-classifier, train it, and export for later use."
   ]
  },
  {
   "cell_type": "markdown",
   "metadata": {
    "id": "eQceYqRFT_Eg"
   },
   "source": [
    "## Optional: BERT on TF Hub"
   ]
  },
  {
   "cell_type": "markdown",
   "metadata": {
    "id": "QbklKt-w_CiI"
   },
   "source": [
    "<a id=\"hub_bert\"></a>\n",
    "\n",
    "\n",
    "You can get the BERT model off the shelf from [TF Hub](https://tfhub.dev/). There are [many versions available along with their input preprocessors](https://tfhub.dev/google/collections/bert/1).\n",
    "\n",
    "This example uses [a small version of BERT from TF Hub](https://tfhub.dev/tensorflow/small_bert/bert_en_uncased_L-2_H-128_A-2/2) that was pre-trained using the English Wikipedia and BooksCorpus datasets, similar to the [original implementation](https://arxiv.org/abs/1908.08962) (Turc et al., 2019).\n",
    "\n",
    "Start by importing TF Hub:"
   ]
  },
  {
   "cell_type": "code",
   "execution_count": null,
   "metadata": {
    "execution": {
     "iopub.execute_input": "2022-12-16T12:17:32.680382Z",
     "iopub.status.busy": "2022-12-16T12:17:32.679944Z",
     "iopub.status.idle": "2022-12-16T12:17:32.682819Z",
     "shell.execute_reply": "2022-12-16T12:17:32.682241Z"
    },
    "id": "GDWrHm0BGpbX"
   },
   "outputs": [],
   "source": [
    "import tensorflow_hub as hub"
   ]
  },
  {
   "cell_type": "markdown",
   "metadata": {
    "id": "f02f38f83ac4"
   },
   "source": [
    "Select the input preprocessor and the model from TF Hub and wrap them as `hub.KerasLayer` layers:"
   ]
  },
  {
   "cell_type": "code",
   "execution_count": null,
   "metadata": {
    "execution": {
     "iopub.execute_input": "2022-12-16T12:17:32.685827Z",
     "iopub.status.busy": "2022-12-16T12:17:32.685340Z",
     "iopub.status.idle": "2022-12-16T12:17:36.198388Z",
     "shell.execute_reply": "2022-12-16T12:17:36.197701Z"
    },
    "id": "lo6479At4sP1"
   },
   "outputs": [],
   "source": [
    "# Always make sure you use the right preprocessor.\n",
    "hub_preprocessor = hub.KerasLayer(\n",
    "    \"https://tfhub.dev/tensorflow/bert_en_uncased_preprocess/3\")\n",
    "\n",
    "# This is a really small BERT.\n",
    "hub_encoder = hub.KerasLayer(f\"https://tfhub.dev/tensorflow/small_bert/bert_en_uncased_L-2_H-128_A-2/2\",\n",
    "                             trainable=True)\n",
    "\n",
    "print(f\"The Hub encoder has {len(hub_encoder.trainable_variables)} trainable variables\")"
   ]
  },
  {
   "cell_type": "markdown",
   "metadata": {
    "id": "iTzF574wivQv"
   },
   "source": [
    "Test run the preprocessor on a batch of data:"
   ]
  },
  {
   "cell_type": "code",
   "execution_count": null,
   "metadata": {
    "execution": {
     "iopub.execute_input": "2022-12-16T12:17:36.202020Z",
     "iopub.status.busy": "2022-12-16T12:17:36.201531Z",
     "iopub.status.idle": "2022-12-16T12:17:36.366773Z",
     "shell.execute_reply": "2022-12-16T12:17:36.366055Z"
    },
    "id": "GOASSKR5R3-N"
   },
   "outputs": [],
   "source": [
    "hub_inputs = hub_preprocessor(['Hello TensorFlow!'])\n",
    "{key: value[0, :10].numpy() for key, value in hub_inputs.items()} "
   ]
  },
  {
   "cell_type": "code",
   "execution_count": null,
   "metadata": {
    "execution": {
     "iopub.execute_input": "2022-12-16T12:17:36.370113Z",
     "iopub.status.busy": "2022-12-16T12:17:36.369636Z",
     "iopub.status.idle": "2022-12-16T12:17:36.510435Z",
     "shell.execute_reply": "2022-12-16T12:17:36.509776Z"
    },
    "id": "XEcYrCR45Uwo"
   },
   "outputs": [],
   "source": [
    "result = hub_encoder(\n",
    "    inputs=hub_inputs,\n",
    "    training=False,\n",
    ")\n",
    "\n",
    "print(\"Pooled output shape:\", result['pooled_output'].shape)\n",
    "print(\"Sequence output shape:\", result['sequence_output'].shape)"
   ]
  },
  {
   "cell_type": "markdown",
   "metadata": {
    "id": "cjojn8SmLSRI"
   },
   "source": [
    "At this point it would be simple to add a classification head yourself.\n",
    "\n",
    "The Model Garden `tfm.nlp.models.BertClassifier` class can also build a classifier onto the TF Hub encoder:"
   ]
  },
  {
   "cell_type": "code",
   "execution_count": null,
   "metadata": {
    "execution": {
     "iopub.execute_input": "2022-12-16T12:17:36.514053Z",
     "iopub.status.busy": "2022-12-16T12:17:36.513464Z",
     "iopub.status.idle": "2022-12-16T12:17:37.174404Z",
     "shell.execute_reply": "2022-12-16T12:17:37.173721Z"
    },
    "id": "9nTDaApyLR70"
   },
   "outputs": [],
   "source": [
    "hub_classifier = tfm.nlp.models.BertClassifier(\n",
    "    bert_encoder,\n",
    "    num_classes=2,\n",
    "    dropout_rate=0.1,\n",
    "    initializer=tf.keras.initializers.TruncatedNormal(\n",
    "        stddev=0.02))"
   ]
  },
  {
   "cell_type": "markdown",
   "metadata": {
    "id": "xMJX3wV0_v7I"
   },
   "source": [
    "The one downside to loading this model from TF Hub is that the structure of internal Keras layers is not restored. This makes it more difficult to inspect or modify the model.\n",
    "\n",
    "The BERT encoder model—`hub_classifier`—is now a single layer."
   ]
  },
  {
   "cell_type": "markdown",
   "metadata": {
    "id": "u_IqwXjRV1vd"
   },
   "source": [
    "For concrete examples of this approach, refer to [Solve Glue tasks using BERT](https://www.tensorflow.org/text/tutorials/bert_glue)."
   ]
  },
  {
   "cell_type": "markdown",
   "metadata": {
    "id": "ji3tdLz101km"
   },
   "source": [
    "## Optional: Optimizer `config`s\n",
    "\n",
    "The `tensorflow_models` package defines serializable `config` classes that describe how to build the live objects. Earlier in this tutorial, you built the optimizer manually.\n",
    "\n",
    "The configuration below describes an (almost) identical optimizer built by the `optimizer_factory.OptimizerFactory`:"
   ]
  },
  {
   "cell_type": "code",
   "execution_count": null,
   "metadata": {
    "execution": {
     "iopub.execute_input": "2022-12-16T12:17:37.179120Z",
     "iopub.status.busy": "2022-12-16T12:17:37.178459Z",
     "iopub.status.idle": "2022-12-16T12:17:37.186100Z",
     "shell.execute_reply": "2022-12-16T12:17:37.185475Z"
    },
    "id": "Fdb9C1ontnH_"
   },
   "outputs": [],
   "source": [
    "optimization_config = tfm.optimization.OptimizationConfig(\n",
    "    optimizer=tfm.optimization.OptimizerConfig(\n",
    "        type = \"adam\"),\n",
    "    learning_rate = tfm.optimization.LrConfig(\n",
    "        type='polynomial',\n",
    "        polynomial=tfm.optimization.PolynomialLrConfig(\n",
    "            initial_learning_rate=2e-5,\n",
    "            end_learning_rate=0.0,\n",
    "            decay_steps=num_train_steps)),\n",
    "    warmup = tfm.optimization.WarmupConfig(\n",
    "        type='linear',\n",
    "        linear=tfm.optimization.LinearWarmupConfig(warmup_steps=warmup_steps)\n",
    "    ))\n",
    "\n",
    "\n",
    "fac = tfm.optimization.optimizer_factory.OptimizerFactory(optimization_config)\n",
    "lr = fac.build_learning_rate()\n",
    "optimizer = fac.build_optimizer(lr=lr)"
   ]
  },
  {
   "cell_type": "code",
   "execution_count": null,
   "metadata": {
    "execution": {
     "iopub.execute_input": "2022-12-16T12:17:37.189267Z",
     "iopub.status.busy": "2022-12-16T12:17:37.188716Z",
     "iopub.status.idle": "2022-12-16T12:17:38.800579Z",
     "shell.execute_reply": "2022-12-16T12:17:38.799862Z"
    },
    "id": "Rp7R1hBfv5HG"
   },
   "outputs": [],
   "source": [
    "x = tf.linspace(0, num_train_steps, 1001).numpy()\n",
    "y = [lr(xi) for xi in x]\n",
    "plt.plot(x,y)\n",
    "plt.xlabel('Train step')\n",
    "plt.ylabel('Learning rate')"
   ]
  },
  {
   "cell_type": "markdown",
   "metadata": {
    "id": "ywn5miD_dnuh"
   },
   "source": [
    "The advantage to using `config` objects is that they don't contain any complicated TensorFlow objects, and can be easily serialized to JSON, and rebuilt. Here's the JSON for the above `tfm.optimization.OptimizationConfig`:"
   ]
  },
  {
   "cell_type": "code",
   "execution_count": null,
   "metadata": {
    "execution": {
     "iopub.execute_input": "2022-12-16T12:17:38.804302Z",
     "iopub.status.busy": "2022-12-16T12:17:38.803751Z",
     "iopub.status.idle": "2022-12-16T12:17:38.808920Z",
     "shell.execute_reply": "2022-12-16T12:17:38.808281Z"
    },
    "id": "zo5RV5lud81Y"
   },
   "outputs": [],
   "source": [
    "optimization_config = optimization_config.as_dict()\n",
    "optimization_config"
   ]
  },
  {
   "cell_type": "markdown",
   "metadata": {
    "id": "Z6qPXPEhekkd"
   },
   "source": [
    "The `tfm.optimization.optimizer_factory.OptimizerFactory` can just as easily build the optimizer from the JSON dictionary:"
   ]
  },
  {
   "cell_type": "code",
   "execution_count": null,
   "metadata": {
    "execution": {
     "iopub.execute_input": "2022-12-16T12:17:38.812253Z",
     "iopub.status.busy": "2022-12-16T12:17:38.811668Z",
     "iopub.status.idle": "2022-12-16T12:17:38.817419Z",
     "shell.execute_reply": "2022-12-16T12:17:38.816817Z"
    },
    "id": "p-bYrvfMYsxp"
   },
   "outputs": [],
   "source": [
    "fac = tfm.optimization.optimizer_factory.OptimizerFactory(\n",
    "    tfm.optimization.OptimizationConfig(optimization_config))\n",
    "lr = fac.build_learning_rate()\n",
    "optimizer = fac.build_optimizer(lr=lr)"
   ]
  }
 ],
 "metadata": {
  "accelerator": "GPU",
  "colab": {
   "name": "fine_tune_bert.ipynb",
   "private_outputs": true,
   "toc_visible": true
  },
  "kernelspec": {
   "display_name": "Python 3",
   "language": "python",
   "name": "python3"
  },
  "language_info": {
   "codemirror_mode": {
    "name": "ipython",
    "version": 3
   },
   "file_extension": ".py",
   "mimetype": "text/x-python",
   "name": "python",
   "nbconvert_exporter": "python",
   "pygments_lexer": "ipython3",
   "version": "3.9.1 (tags/v3.9.1:1e5d33e, Dec  7 2020, 17:08:21) [MSC v.1927 64 bit (AMD64)]"
  },
  "vscode": {
   "interpreter": {
    "hash": "20d9c2c7dfab62e26d093fe355d4469cff5fe61964c416c3b636675cb0ea0dc2"
   }
  }
 },
 "nbformat": 4,
 "nbformat_minor": 0
}
